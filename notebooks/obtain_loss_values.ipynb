{
 "cells": [
  {
   "cell_type": "code",
   "execution_count": 1,
   "id": "5e10ab7c",
   "metadata": {},
   "outputs": [],
   "source": [
    "from ats_models.longmbart.longformer_enc_dec import MLongformerEncoderDecoderForConditionalGeneration,MLongformerEncoderDecoderConfig"
   ]
  },
  {
   "cell_type": "code",
   "execution_count": 2,
   "id": "57562620",
   "metadata": {},
   "outputs": [],
   "source": [
    "config = MLongformerEncoderDecoderConfig.from_pretrained(\"../../ats-models-custom-decoder/finetuned-mbart/baseline_fixed\")\n",
    "model = MLongformerEncoderDecoderForConditionalGeneration(config)"
   ]
  },
  {
   "cell_type": "code",
   "execution_count": 3,
   "id": "542be6dc",
   "metadata": {},
   "outputs": [],
   "source": [
    "import torch\n",
    "checkpoint = torch.load(\"/home/joehms/repos/ats-models-custom-decoder/finetuned-mbart/baseline_fixed/epoch=33_rougeL=0.20040.ckpt\")"
   ]
  },
  {
   "cell_type": "code",
   "execution_count": 4,
   "id": "b7456220",
   "metadata": {},
   "outputs": [
    {
     "data": {
      "text/plain": [
       "<All keys matched successfully>"
      ]
     },
     "execution_count": 4,
     "metadata": {},
     "output_type": "execute_result"
    }
   ],
   "source": [
    "state_dict = checkpoint['state_dict']\n",
    "aligned_state_dict = {}\n",
    "for key, value in state_dict.items():\n",
    "    aligned_state_dict[key.replace(\"model.\",\"\",1)] = state_dict[key]\n",
    "aligned_state_dict['final_logits_bias'] = model.final_logits_bias\n",
    "model.load_state_dict(aligned_state_dict)"
   ]
  },
  {
   "cell_type": "code",
   "execution_count": 9,
   "id": "4884f1f6",
   "metadata": {},
   "outputs": [],
   "source": [
    "test_source = \"/home/joehms/repos/leichte-sprache-corpus/aligned/20min/test.src\"\n",
    "test_target = \"/home/joehms/repos/leichte-sprache-corpus/aligned/20min/test.trg\"\n",
    "\n",
    "val_source = \"/home/joehms/repos/leichte-sprache-corpus/aligned/20min/dev.src\"\n",
    "val_target = \"/home/joehms/repos/leichte-sprache-corpus/aligned/20min/dev.trg\"\n",
    "\n",
    "train_source = \"/home/joehms/repos/leichte-sprache-corpus/aligned/20min/train.src\"\n",
    "train_target = \"/home/joehms/repos/leichte-sprache-corpus/aligned/20min/train.trg\"\n",
    "\n",
    "tokenizer_path = \"../../ats-models-custom-decoder/modified-mbart\"\n",
    "max_input_length = 3072\n",
    "max_output_length = 1024\n",
    "beam_size = 4"
   ]
  },
  {
   "cell_type": "code",
   "execution_count": 6,
   "id": "80b4ee18",
   "metadata": {},
   "outputs": [],
   "source": [
    "from transformers import MBartTokenizer\n",
    "\n",
    "tokenizer = MBartTokenizer.from_pretrained(tokenizer_path, use_fast=True)"
   ]
  },
  {
   "cell_type": "code",
   "execution_count": 7,
   "id": "ccaf7913",
   "metadata": {},
   "outputs": [],
   "source": [
    "from ats_models.data import CustomDataset, CustomDatasetForInference"
   ]
  },
  {
   "cell_type": "code",
   "execution_count": 69,
   "id": "95a33896",
   "metadata": {},
   "outputs": [],
   "source": [
    "test_set = CustomDatasetForInference(src_file=test_source,\n",
    "                                     tgt_file=test_target,\n",
    "                                     name=\"test\",\n",
    "                                     tokenizer=tokenizer,\n",
    "                                     max_input_len=max_input_length,\n",
    "                                     max_output_len=max_output_length,\n",
    "                                     src_tags_included=True,\n",
    "                                     tgt_tags_included=True)\n",
    "\n",
    "train_set = CustomDataset(src_file=train_source,\n",
    "                          tgt_file=train_target,\n",
    "                          name=\"train\",\n",
    "                          tokenizer=tokenizer,\n",
    "                          max_input_len=max_input_length,\n",
    "                          max_output_len=max_output_length,\n",
    "                          src_tags_included=True,\n",
    "                          tgt_tags_included=True\n",
    "            )\n",
    "\n",
    "val_set = CustomDataset(src_file=val_source,\n",
    "                          tgt_file=val_target,\n",
    "                          name=\"train\",\n",
    "                          tokenizer=tokenizer,\n",
    "                          max_input_len=max_input_length,\n",
    "                          max_output_len=max_output_length,\n",
    "                          src_tags_included=True,\n",
    "                          tgt_tags_included=True\n",
    "            )"
   ]
  },
  {
   "cell_type": "code",
   "execution_count": 70,
   "id": "b345c51f",
   "metadata": {},
   "outputs": [
    {
     "name": "stderr",
     "output_type": "stream",
     "text": [
      "100%|██████████████████████████████████████████████████████████████████████████████████████████████████████████████████████████████████████████████| 100/100 [00:36<00:00,  2.74it/s]\n"
     ]
    }
   ],
   "source": [
    "from torch.utils.data import DataLoader\n",
    "from functools import partial\n",
    "import matplotlib.pyplot as plt\n",
    "import numpy as np\n",
    "from tqdm import tqdm\n",
    "import torch\n",
    "\n",
    "#data_collator = CustomCollator(tokenizer=tokenizer, model=model, pad_to_multiple_of=8, padding=True)\n",
    "\n",
    "batch_size = 2\n",
    "data_loader =  iter(DataLoader(val_set, batch_size=batch_size, shuffle=False, collate_fn=CustomDataset.collate_fn(tokenizer)))\n",
    "\n",
    "counter = 0\n",
    "data = {}\n",
    "\n",
    "import torch\n",
    "device = \"cuda:0\" if torch.cuda.is_available() else \"cpu\"\n",
    "\n",
    "model.to(device)\n",
    "model.eval()\n",
    "    \n",
    "for i in tqdm(range((int)(counter/batch_size), len(data_loader))):\n",
    "    inputs = next(data_loader)\n",
    "    input_ids, decoder_input_ids, labels = inputs['input_ids'], inputs['decoder_input_ids'], inputs['labels']\n",
    "    bsz, seqlen = decoder_input_ids.size()\n",
    "    input_ids, attention_mask = CustomDataset.prepare_input(input_ids, True, 'sliding_chunks', [512], tokenizer.pad_token_id, [-1])\n",
    "    decoder_attention_mask = (decoder_input_ids != tokenizer.pad_token_id)\n",
    "\n",
    "    with torch.no_grad():\n",
    "        outputs = model(\n",
    "                input_ids.to(device),\n",
    "                attention_mask=attention_mask.to(device),\n",
    "                decoder_input_ids=decoder_input_ids.to(device),\n",
    "                decoder_attention_mask=decoder_attention_mask.to(device),\n",
    "                output_hidden_states=True,\n",
    "                return_dict=True,\n",
    "                output_attentions=True\n",
    "                )\n",
    "        logits = outputs['logits']\n",
    "        lprobs = torch.nn.functional.log_softmax(logits, dim=-1)\n",
    "        ids = torch.argmax(lprobs, dim=2)\n",
    "        \n",
    "        ce_loss_fct = torch.nn.CrossEntropyLoss(ignore_index=-100, reduction='none')\n",
    "        assert logits.shape[-1] == model.config.vocab_size\n",
    "        loss = ce_loss_fct(logits.view(-1, logits.shape[-1]), labels.view(-1).to(device)).view(ids.shape)\n",
    "        \n",
    "        \n",
    "        labels[labels == -100] = 1\n",
    "        for i in range(0, batch_size):            \n",
    "            data['loss_' + str(counter)] = loss[i].cpu().detach()\n",
    "            data['ids_' + str(counter)] = ids[i].cpu().detach()\n",
    "            counter += 1\n",
    "            \n",
    "np.savez_compressed('val_loss', **data)"
   ]
  },
  {
   "cell_type": "code",
   "execution_count": 71,
   "id": "8863c0a3",
   "metadata": {},
   "outputs": [
    {
     "name": "stderr",
     "output_type": "stream",
     "text": [
      "/tmp/ipykernel_3155869/1431439636.py:28: RuntimeWarning: invalid value encountered in true_divide\n",
      "  mean_loss_per_token = summed_loss / count\n"
     ]
    },
    {
     "data": {
      "text/plain": [
       "nan"
      ]
     },
     "execution_count": 71,
     "metadata": {},
     "output_type": "execute_result"
    }
   ],
   "source": [
    "from tqdm import tqdm\n",
    "\n",
    "loss_data = np.load('val_loss.npz')\n",
    "\n",
    "all_loss = []\n",
    "\n",
    "max_words = 0\n",
    "for key in loss_data.files:\n",
    "    if key.startswith(\"loss\"):\n",
    "        value = loss_data[key]\n",
    "        if value.shape[0] > max_words:\n",
    "            max_words = value.shape[0]\n",
    "\n",
    "for key in loss_data.files:\n",
    "    if key.startswith(\"loss\"):\n",
    "        \n",
    "        loss = np.expand_dims(loss_data[key],axis=0)\n",
    "        remainder = [0] *  int((max_words - len(loss[0,:])))\n",
    "        remainder = np.array([remainder] * len(loss[:,0]))\n",
    "        loss = np.concatenate((loss, remainder), axis=1)\n",
    "\n",
    "        all_loss.append(loss)\n",
    "\n",
    "loss_cat = np.concatenate(all_loss, axis=0)\n",
    "\n",
    "count = (loss_cat != 0).sum(axis=0)\n",
    "summed_loss = loss_cat.sum(axis=0)\n",
    "mean_loss_per_token = summed_loss / count\n",
    "mean_loss_per_token.mean()"
   ]
  },
  {
   "cell_type": "code",
   "execution_count": 72,
   "id": "fcaf615e",
   "metadata": {},
   "outputs": [
    {
     "data": {
      "image/png": "[encoded data removed]",
      "text/plain": [
       "<Figure size 432x288 with 1 Axes>"
      ]
     },
     "metadata": {
      "needs_background": "light"
     },
     "output_type": "display_data"
    }
   ],
   "source": [
    "import matplotlib.pyplot as plt\n",
    "fig = plt.figure()\n",
    "ax = fig.add_axes([0,0,1,1])\n",
    "\n",
    "#plt.bar(count, height=10, width=0.8, bottom=None, align='center')\n",
    "\n",
    "#ax.bar(range(0,len(count)),count)\n",
    "#plt.show()\n",
    "\n",
    "ax.bar(range(0,len(count)),mean_loss_per_token)\n",
    "plt.show()"
   ]
  },
  {
   "cell_type": "code",
   "execution_count": null,
   "id": "5c963ac4",
   "metadata": {},
   "outputs": [],
   "source": []
  }
 ],
 "metadata": {
  "kernelspec": {
   "display_name": "Python 3 (ipykernel)",
   "language": "python",
   "name": "python3"
  },
  "language_info": {
   "codemirror_mode": {
    "name": "ipython",
    "version": 3
   },
   "file_extension": ".py",
   "mimetype": "text/x-python",
   "name": "python",
   "nbconvert_exporter": "python",
   "pygments_lexer": "ipython3",
   "version": "3.10.6"
  }
 },
 "nbformat": 4,
 "nbformat_minor": 5
}
